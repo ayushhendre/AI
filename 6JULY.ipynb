{
  "nbformat": 4,
  "nbformat_minor": 0,
  "metadata": {
    "colab": {
      "name": "Untitled",
      "provenance": [],
      "collapsed_sections": [],
      "authorship_tag": "ABX9TyPIMkOHuHg99XpAtK24EVVE",
      "include_colab_link": true
    },
    "kernelspec": {
      "name": "python3",
      "display_name": "Python 3"
    }
  },
  "cells": [
    {
      "cell_type": "markdown",
      "metadata": {
        "id": "view-in-github",
        "colab_type": "text"
      },
      "source": [
        "<a href=\"https://colab.research.google.com/github/ayushhendre/AI/blob/master/6JULY.ipynb\" target=\"_parent\"><img src=\"https://colab.research.google.com/assets/colab-badge.svg\" alt=\"Open In Colab\"/></a>"
      ]
    },
    {
      "cell_type": "code",
      "metadata": {
        "id": "gPv50RChQIp9",
        "colab_type": "code",
        "colab": {}
      },
      "source": [
        "import numpy as np"
      ],
      "execution_count": null,
      "outputs": []
    },
    {
      "cell_type": "code",
      "metadata": {
        "id": "LoxopWDURmWk",
        "colab_type": "code",
        "colab": {
          "base_uri": "https://localhost:8080/",
          "height": 34
        },
        "outputId": "e61fbea6-3915-4cca-ad6f-b2fb3628767c"
      },
      "source": [
        "a='ayush hendre'\n",
        "k=a.split()\n",
        "k"
      ],
      "execution_count": null,
      "outputs": [
        {
          "output_type": "execute_result",
          "data": {
            "text/plain": [
              "['ayush', 'hendre']"
            ]
          },
          "metadata": {
            "tags": []
          },
          "execution_count": 10
        }
      ]
    },
    {
      "cell_type": "code",
      "metadata": {
        "id": "5GZgxmm8SfJy",
        "colab_type": "code",
        "colab": {
          "base_uri": "https://localhost:8080/",
          "height": 1000
        },
        "outputId": "7c053dc3-8f6d-4c81-ce3a-ad7d16c93c47"
      },
      "source": [
        "dir(a)"
      ],
      "execution_count": null,
      "outputs": [
        {
          "output_type": "execute_result",
          "data": {
            "text/plain": [
              "['__add__',\n",
              " '__class__',\n",
              " '__contains__',\n",
              " '__delattr__',\n",
              " '__dir__',\n",
              " '__doc__',\n",
              " '__eq__',\n",
              " '__format__',\n",
              " '__ge__',\n",
              " '__getattribute__',\n",
              " '__getitem__',\n",
              " '__getnewargs__',\n",
              " '__gt__',\n",
              " '__hash__',\n",
              " '__init__',\n",
              " '__init_subclass__',\n",
              " '__iter__',\n",
              " '__le__',\n",
              " '__len__',\n",
              " '__lt__',\n",
              " '__mod__',\n",
              " '__mul__',\n",
              " '__ne__',\n",
              " '__new__',\n",
              " '__reduce__',\n",
              " '__reduce_ex__',\n",
              " '__repr__',\n",
              " '__rmod__',\n",
              " '__rmul__',\n",
              " '__setattr__',\n",
              " '__sizeof__',\n",
              " '__str__',\n",
              " '__subclasshook__',\n",
              " 'capitalize',\n",
              " 'casefold',\n",
              " 'center',\n",
              " 'count',\n",
              " 'encode',\n",
              " 'endswith',\n",
              " 'expandtabs',\n",
              " 'find',\n",
              " 'format',\n",
              " 'format_map',\n",
              " 'index',\n",
              " 'isalnum',\n",
              " 'isalpha',\n",
              " 'isdecimal',\n",
              " 'isdigit',\n",
              " 'isidentifier',\n",
              " 'islower',\n",
              " 'isnumeric',\n",
              " 'isprintable',\n",
              " 'isspace',\n",
              " 'istitle',\n",
              " 'isupper',\n",
              " 'join',\n",
              " 'ljust',\n",
              " 'lower',\n",
              " 'lstrip',\n",
              " 'maketrans',\n",
              " 'partition',\n",
              " 'replace',\n",
              " 'rfind',\n",
              " 'rindex',\n",
              " 'rjust',\n",
              " 'rpartition',\n",
              " 'rsplit',\n",
              " 'rstrip',\n",
              " 'split',\n",
              " 'splitlines',\n",
              " 'startswith',\n",
              " 'strip',\n",
              " 'swapcase',\n",
              " 'title',\n",
              " 'translate',\n",
              " 'upper',\n",
              " 'zfill']"
            ]
          },
          "metadata": {
            "tags": []
          },
          "execution_count": 4
        }
      ]
    },
    {
      "cell_type": "code",
      "metadata": {
        "id": "_3WpglA0SfPb",
        "colab_type": "code",
        "colab": {
          "base_uri": "https://localhost:8080/",
          "height": 34
        },
        "outputId": "76a912b2-2f7f-4ca6-e8e7-ef4adba87139"
      },
      "source": [
        "a=np.array([2,3,4])\n",
        "a"
      ],
      "execution_count": null,
      "outputs": [
        {
          "output_type": "execute_result",
          "data": {
            "text/plain": [
              "array([2, 3, 4])"
            ]
          },
          "metadata": {
            "tags": []
          },
          "execution_count": 13
        }
      ]
    },
    {
      "cell_type": "code",
      "metadata": {
        "id": "vyRxivecSfYI",
        "colab_type": "code",
        "colab": {
          "base_uri": "https://localhost:8080/",
          "height": 34
        },
        "outputId": "b7f8f301-18ac-4339-8251-c02c197e9f01"
      },
      "source": [
        "type(a)"
      ],
      "execution_count": null,
      "outputs": [
        {
          "output_type": "execute_result",
          "data": {
            "text/plain": [
              "numpy.ndarray"
            ]
          },
          "metadata": {
            "tags": []
          },
          "execution_count": 14
        }
      ]
    },
    {
      "cell_type": "code",
      "metadata": {
        "id": "Etnk_JcySfce",
        "colab_type": "code",
        "colab": {
          "base_uri": "https://localhost:8080/",
          "height": 34
        },
        "outputId": "acc2f90a-ebe7-44d6-a8d0-400bd5af8d24"
      },
      "source": [
        "a.shape"
      ],
      "execution_count": null,
      "outputs": [
        {
          "output_type": "execute_result",
          "data": {
            "text/plain": [
              "(3,)"
            ]
          },
          "metadata": {
            "tags": []
          },
          "execution_count": 15
        }
      ]
    },
    {
      "cell_type": "code",
      "metadata": {
        "id": "LMl8HsARU1QV",
        "colab_type": "code",
        "colab": {
          "base_uri": "https://localhost:8080/",
          "height": 51
        },
        "outputId": "3c2b548d-d2db-4020-c684-e5aa1c850a27"
      },
      "source": [
        "a1=np.array([[1,2,3],[1,1,1]])\n",
        "a1"
      ],
      "execution_count": null,
      "outputs": [
        {
          "output_type": "execute_result",
          "data": {
            "text/plain": [
              "array([[1, 2, 3],\n",
              "       [1, 1, 1]])"
            ]
          },
          "metadata": {
            "tags": []
          },
          "execution_count": 18
        }
      ]
    },
    {
      "cell_type": "code",
      "metadata": {
        "id": "9uMiONJ5U1fJ",
        "colab_type": "code",
        "colab": {
          "base_uri": "https://localhost:8080/",
          "height": 34
        },
        "outputId": "fbd71cea-ad8f-453a-aaba-dbb6195ea74c"
      },
      "source": [
        "a1.shape"
      ],
      "execution_count": null,
      "outputs": [
        {
          "output_type": "execute_result",
          "data": {
            "text/plain": [
              "(2, 3)"
            ]
          },
          "metadata": {
            "tags": []
          },
          "execution_count": 19
        }
      ]
    },
    {
      "cell_type": "code",
      "metadata": {
        "id": "li_RtyB5U1eA",
        "colab_type": "code",
        "colab": {
          "base_uri": "https://localhost:8080/",
          "height": 34
        },
        "outputId": "43e7f1f5-9bd7-491a-a7a1-8363c18b6107"
      },
      "source": [
        "a1.shape[1]"
      ],
      "execution_count": null,
      "outputs": [
        {
          "output_type": "execute_result",
          "data": {
            "text/plain": [
              "3"
            ]
          },
          "metadata": {
            "tags": []
          },
          "execution_count": 21
        }
      ]
    },
    {
      "cell_type": "code",
      "metadata": {
        "id": "XWjRSOtMU1Wf",
        "colab_type": "code",
        "colab": {
          "base_uri": "https://localhost:8080/",
          "height": 34
        },
        "outputId": "81ba6071-ba54-4639-e0e3-6157d5d00e13"
      },
      "source": [
        "a1.sum(axis=1)"
      ],
      "execution_count": null,
      "outputs": [
        {
          "output_type": "execute_result",
          "data": {
            "text/plain": [
              "array([6, 3])"
            ]
          },
          "metadata": {
            "tags": []
          },
          "execution_count": 23
        }
      ]
    },
    {
      "cell_type": "code",
      "metadata": {
        "id": "3oOUSHEuU1VM",
        "colab_type": "code",
        "colab": {}
      },
      "source": [
        "np.random.seed(1)"
      ],
      "execution_count": null,
      "outputs": []
    },
    {
      "cell_type": "code",
      "metadata": {
        "id": "5HeM5WKdSfkn",
        "colab_type": "code",
        "colab": {}
      },
      "source": [
        "a2=np.random.rand(64,64,3)\n"
      ],
      "execution_count": null,
      "outputs": []
    },
    {
      "cell_type": "code",
      "metadata": {
        "id": "jPqfLEd-Sfh4",
        "colab_type": "code",
        "colab": {
          "base_uri": "https://localhost:8080/",
          "height": 850
        },
        "outputId": "38236cab-0d2c-4e18-872b-c8711364f807"
      },
      "source": [
        "a2"
      ],
      "execution_count": null,
      "outputs": [
        {
          "output_type": "execute_result",
          "data": {
            "text/plain": [
              "array([[[0.68650093, 0.83462567, 0.01828828],\n",
              "        [0.75014431, 0.98886109, 0.74816565],\n",
              "        [0.28044399, 0.78927933, 0.10322601],\n",
              "        ...,\n",
              "        [0.01501898, 0.17619626, 0.33206357],\n",
              "        [0.13099684, 0.80949069, 0.34473665],\n",
              "        [0.94010748, 0.58201418, 0.87883198]],\n",
              "\n",
              "       [[0.84473445, 0.90539232, 0.45988027],\n",
              "        [0.54634682, 0.79860359, 0.28571885],\n",
              "        [0.49025352, 0.59911031, 0.01553328],\n",
              "        ...,\n",
              "        [0.63378676, 0.80296324, 0.6968005 ],\n",
              "        [0.76621138, 0.34245412, 0.84585148],\n",
              "        [0.42876877, 0.82400987, 0.62649616]],\n",
              "\n",
              "       [[0.14342305, 0.0783869 , 0.01833264],\n",
              "        [0.066725  , 0.45858381, 0.11334192],\n",
              "        [0.02778335, 0.75486148, 0.39485048],\n",
              "        ...,\n",
              "        [0.23170231, 0.20762566, 0.91733356],\n",
              "        [0.71131452, 0.55388461, 0.30451799],\n",
              "        [0.83485405, 0.43530596, 0.92345622]],\n",
              "\n",
              "       ...,\n",
              "\n",
              "       [[0.35099751, 0.17268062, 0.2694481 ],\n",
              "        [0.10683574, 0.74668071, 0.93906463],\n",
              "        [0.61926614, 0.65098115, 0.256275  ],\n",
              "        ...,\n",
              "        [0.28425474, 0.72870034, 0.1884362 ],\n",
              "        [0.61159528, 0.8414812 , 0.86101569],\n",
              "        [0.9976025 , 0.70947061, 0.23522419]],\n",
              "\n",
              "       [[0.24047219, 0.82770947, 0.81284488],\n",
              "        [0.47733332, 0.91171674, 0.853745  ],\n",
              "        [0.5538325 , 0.66226273, 0.01136668],\n",
              "        ...,\n",
              "        [0.81253721, 0.73732792, 0.10987567],\n",
              "        [0.57258649, 0.00445601, 0.87297768],\n",
              "        [0.40417756, 0.75077994, 0.01090942]],\n",
              "\n",
              "       [[0.92261096, 0.48711063, 0.24989319],\n",
              "        [0.4401921 , 0.34063009, 0.93919102],\n",
              "        [0.30148769, 0.04544348, 0.49162229],\n",
              "        ...,\n",
              "        [0.02719488, 0.00841902, 0.34259378],\n",
              "        [0.29184176, 0.55157893, 0.34272414],\n",
              "        [0.80148395, 0.34504872, 0.00119213]]])"
            ]
          },
          "metadata": {
            "tags": []
          },
          "execution_count": 39
        }
      ]
    },
    {
      "cell_type": "code",
      "metadata": {
        "id": "S6w9kEf4Rmj1",
        "colab_type": "code",
        "colab": {
          "base_uri": "https://localhost:8080/",
          "height": 238
        },
        "outputId": "1f704d10-9216-4ca4-d139-5cb0a3a78dfb"
      },
      "source": [
        "a2[:,:,2]"
      ],
      "execution_count": null,
      "outputs": [
        {
          "output_type": "execute_result",
          "data": {
            "text/plain": [
              "array([[0.01828828, 0.74816565, 0.10322601, ..., 0.33206357, 0.34473665,\n",
              "        0.87883198],\n",
              "       [0.45988027, 0.28571885, 0.01553328, ..., 0.6968005 , 0.84585148,\n",
              "        0.62649616],\n",
              "       [0.01833264, 0.11334192, 0.39485048, ..., 0.91733356, 0.30451799,\n",
              "        0.92345622],\n",
              "       ...,\n",
              "       [0.2694481 , 0.93906463, 0.256275  , ..., 0.1884362 , 0.86101569,\n",
              "        0.23522419],\n",
              "       [0.81284488, 0.853745  , 0.01136668, ..., 0.10987567, 0.87297768,\n",
              "        0.01090942],\n",
              "       [0.24989319, 0.93919102, 0.49162229, ..., 0.34259378, 0.34272414,\n",
              "        0.00119213]])"
            ]
          },
          "metadata": {
            "tags": []
          },
          "execution_count": 41
        }
      ]
    },
    {
      "cell_type": "code",
      "metadata": {
        "id": "Zkqe74PHXBsR",
        "colab_type": "code",
        "colab": {
          "base_uri": "https://localhost:8080/",
          "height": 34
        },
        "outputId": "14be89f5-2fe1-4eff-a44d-c71640814f46"
      },
      "source": [
        "c=np.array([[2,3,4,5],[7,8,9,10]])\n",
        "c.shape"
      ],
      "execution_count": null,
      "outputs": [
        {
          "output_type": "execute_result",
          "data": {
            "text/plain": [
              "(2, 4)"
            ]
          },
          "metadata": {
            "tags": []
          },
          "execution_count": 43
        }
      ]
    },
    {
      "cell_type": "code",
      "metadata": {
        "id": "KZMdUphfXB9C",
        "colab_type": "code",
        "colab": {
          "base_uri": "https://localhost:8080/",
          "height": 34
        },
        "outputId": "d552fc20-df7e-4fc8-c9a6-d055a307194b"
      },
      "source": [
        "d=c.T\n",
        "d.shape"
      ],
      "execution_count": null,
      "outputs": [
        {
          "output_type": "execute_result",
          "data": {
            "text/plain": [
              "(4, 2)"
            ]
          },
          "metadata": {
            "tags": []
          },
          "execution_count": 46
        }
      ]
    },
    {
      "cell_type": "code",
      "metadata": {
        "id": "onMrSZvTXCQ9",
        "colab_type": "code",
        "colab": {
          "base_uri": "https://localhost:8080/",
          "height": 34
        },
        "outputId": "c729203d-1740-4b43-c9cf-3008609eaecf"
      },
      "source": [
        "A=np.array([[2,3],[4,5]])\n",
        "B=np.array([[1,2,3],[1,1,1]])\n",
        "C=np.dot(A,B)\n",
        "C.shape"
      ],
      "execution_count": null,
      "outputs": [
        {
          "output_type": "execute_result",
          "data": {
            "text/plain": [
              "(2, 3)"
            ]
          },
          "metadata": {
            "tags": []
          },
          "execution_count": 49
        }
      ]
    },
    {
      "cell_type": "code",
      "metadata": {
        "id": "-2bqWpaFaFFP",
        "colab_type": "code",
        "colab": {
          "base_uri": "https://localhost:8080/",
          "height": 102
        },
        "outputId": "89db2ea2-4970-46b0-8fd7-9326a0c024f1"
      },
      "source": [
        "A1=np.zeros((5,1))\n",
        "print(A1)"
      ],
      "execution_count": null,
      "outputs": [
        {
          "output_type": "stream",
          "text": [
            "[[0.]\n",
            " [0.]\n",
            " [0.]\n",
            " [0.]\n",
            " [0.]]\n"
          ],
          "name": "stdout"
        }
      ]
    },
    {
      "cell_type": "code",
      "metadata": {
        "id": "WwuVJDodXCIH",
        "colab_type": "code",
        "colab": {
          "base_uri": "https://localhost:8080/",
          "height": 34
        },
        "outputId": "1ed56579-2a3f-4fb7-b32e-98fc06d6b894"
      },
      "source": [
        "c1=['a1','b1','d1']\n",
        "type(c1)"
      ],
      "execution_count": null,
      "outputs": [
        {
          "output_type": "execute_result",
          "data": {
            "text/plain": [
              "list"
            ]
          },
          "metadata": {
            "tags": []
          },
          "execution_count": 54
        }
      ]
    },
    {
      "cell_type": "code",
      "metadata": {
        "id": "i40jFL1PXCGk",
        "colab_type": "code",
        "colab": {
          "base_uri": "https://localhost:8080/",
          "height": 34
        },
        "outputId": "5b471351-5cea-4cca-ffd4-aed8908b5aaf"
      },
      "source": [
        "c1.append('e1')\n",
        "print(c1)"
      ],
      "execution_count": null,
      "outputs": [
        {
          "output_type": "stream",
          "text": [
            "['a1', 'b1', 'd1', 'e1']\n"
          ],
          "name": "stdout"
        }
      ]
    },
    {
      "cell_type": "code",
      "metadata": {
        "id": "JWHJCY0YXB0D",
        "colab_type": "code",
        "colab": {
          "base_uri": "https://localhost:8080/",
          "height": 799
        },
        "outputId": "1324ec41-6867-4e51-b7f5-54184979ed6a"
      },
      "source": [
        "dir(c1)"
      ],
      "execution_count": null,
      "outputs": [
        {
          "output_type": "execute_result",
          "data": {
            "text/plain": [
              "['__add__',\n",
              " '__class__',\n",
              " '__contains__',\n",
              " '__delattr__',\n",
              " '__delitem__',\n",
              " '__dir__',\n",
              " '__doc__',\n",
              " '__eq__',\n",
              " '__format__',\n",
              " '__ge__',\n",
              " '__getattribute__',\n",
              " '__getitem__',\n",
              " '__gt__',\n",
              " '__hash__',\n",
              " '__iadd__',\n",
              " '__imul__',\n",
              " '__init__',\n",
              " '__init_subclass__',\n",
              " '__iter__',\n",
              " '__le__',\n",
              " '__len__',\n",
              " '__lt__',\n",
              " '__mul__',\n",
              " '__ne__',\n",
              " '__new__',\n",
              " '__reduce__',\n",
              " '__reduce_ex__',\n",
              " '__repr__',\n",
              " '__reversed__',\n",
              " '__rmul__',\n",
              " '__setattr__',\n",
              " '__setitem__',\n",
              " '__sizeof__',\n",
              " '__str__',\n",
              " '__subclasshook__',\n",
              " 'append',\n",
              " 'clear',\n",
              " 'copy',\n",
              " 'count',\n",
              " 'extend',\n",
              " 'index',\n",
              " 'insert',\n",
              " 'pop',\n",
              " 'remove',\n",
              " 'reverse',\n",
              " 'sort']"
            ]
          },
          "metadata": {
            "tags": []
          },
          "execution_count": 56
        }
      ]
    },
    {
      "cell_type": "code",
      "metadata": {
        "id": "2321zUnMbHa2",
        "colab_type": "code",
        "colab": {
          "base_uri": "https://localhost:8080/",
          "height": 34
        },
        "outputId": "cfe475ba-d308-4922-fe40-ba88d7c492d5"
      },
      "source": [
        "e1={'a':11,'b':12}\n",
        "type(e1)\n",
        "e1.values()"
      ],
      "execution_count": null,
      "outputs": [
        {
          "output_type": "execute_result",
          "data": {
            "text/plain": [
              "dict_values([11, 12])"
            ]
          },
          "metadata": {
            "tags": []
          },
          "execution_count": 63
        }
      ]
    },
    {
      "cell_type": "code",
      "metadata": {
        "id": "sTJ9CEZ4bHhq",
        "colab_type": "code",
        "colab": {
          "base_uri": "https://localhost:8080/",
          "height": 34
        },
        "outputId": "6a1174cd-b60f-4b37-b589-f81e07a7a1c0"
      },
      "source": [
        "##sigmoid\n",
        "x=np.array([1,2,3])\n",
        "x1=1/(1+np.exp(-x))\n",
        "print(x1)"
      ],
      "execution_count": null,
      "outputs": [
        {
          "output_type": "stream",
          "text": [
            "[0.73105858 0.88079708 0.95257413]\n"
          ],
          "name": "stdout"
        }
      ]
    },
    {
      "cell_type": "code",
      "metadata": {
        "id": "emLYDaz_bHqM",
        "colab_type": "code",
        "colab": {
          "base_uri": "https://localhost:8080/",
          "height": 34
        },
        "outputId": "55c9794e-ee80-403b-aa07-3c8e63f877da"
      },
      "source": [
        "##derivatives of sigmoid\n",
        "x1*(1-x1)"
      ],
      "execution_count": null,
      "outputs": [
        {
          "output_type": "execute_result",
          "data": {
            "text/plain": [
              "array([0.19661193, 0.10499359, 0.04517666])"
            ]
          },
          "metadata": {
            "tags": []
          },
          "execution_count": 5
        }
      ]
    },
    {
      "cell_type": "code",
      "metadata": {
        "id": "eWqqiglQbHog",
        "colab_type": "code",
        "colab": {}
      },
      "source": [
        "img=np.random.rand(2,2,3)"
      ],
      "execution_count": null,
      "outputs": []
    },
    {
      "cell_type": "code",
      "metadata": {
        "id": "KNMf4YmKi_z6",
        "colab_type": "code",
        "colab": {
          "base_uri": "https://localhost:8080/",
          "height": 34
        },
        "outputId": "3c553fc3-ff0e-4bdb-86be-ee2e197ef8fe"
      },
      "source": [
        "new_img=img.reshape((img.shape[0]*img.shape[1]*img.shape[2],1))\n",
        "new_img.shape"
      ],
      "execution_count": null,
      "outputs": [
        {
          "output_type": "execute_result",
          "data": {
            "text/plain": [
              "(12, 1)"
            ]
          },
          "metadata": {
            "tags": []
          },
          "execution_count": 10
        }
      ]
    },
    {
      "cell_type": "code",
      "metadata": {
        "id": "ST220oYXi_9O",
        "colab_type": "code",
        "colab": {
          "base_uri": "https://localhost:8080/",
          "height": 221
        },
        "outputId": "9fce66f3-e4e6-43f7-84dc-0879e37a40ec"
      },
      "source": [
        "print(new_img)"
      ],
      "execution_count": null,
      "outputs": [
        {
          "output_type": "stream",
          "text": [
            "[[0.98450583]\n",
            " [0.41181781]\n",
            " [0.69381811]\n",
            " [0.35016004]\n",
            " [0.92964561]\n",
            " [0.21774556]\n",
            " [0.3411957 ]\n",
            " [0.59046739]\n",
            " [0.22015241]\n",
            " [0.09423997]\n",
            " [0.29527353]\n",
            " [0.71582892]]\n"
          ],
          "name": "stdout"
        }
      ]
    },
    {
      "cell_type": "code",
      "metadata": {
        "id": "2-paJVzDi_7u",
        "colab_type": "code",
        "colab": {
          "base_uri": "https://localhost:8080/",
          "height": 34
        },
        "outputId": "55ed8504-9615-4df2-f290-3a5a4eb9c1a6"
      },
      "source": [
        "new_img1=img.reshape(img.shape[0],-1).T\n",
        "new_img1.shape"
      ],
      "execution_count": null,
      "outputs": [
        {
          "output_type": "execute_result",
          "data": {
            "text/plain": [
              "(6, 2)"
            ]
          },
          "metadata": {
            "tags": []
          },
          "execution_count": 18
        }
      ]
    },
    {
      "cell_type": "code",
      "metadata": {
        "id": "lY7hZmgFXByz",
        "colab_type": "code",
        "colab": {
          "base_uri": "https://localhost:8080/",
          "height": 51
        },
        "outputId": "0e19d6a1-996c-443e-a18f-d4abc11c3294"
      },
      "source": [
        "x1=np.array([[0,3,4],[2,6,4]])\n",
        "x1"
      ],
      "execution_count": null,
      "outputs": [
        {
          "output_type": "execute_result",
          "data": {
            "text/plain": [
              "array([[0, 3, 4],\n",
              "       [2, 6, 4]])"
            ]
          },
          "metadata": {
            "tags": []
          },
          "execution_count": 24
        }
      ]
    },
    {
      "cell_type": "code",
      "metadata": {
        "id": "YYb3MNDtlQo9",
        "colab_type": "code",
        "colab": {
          "base_uri": "https://localhost:8080/",
          "height": 51
        },
        "outputId": "582d53b8-3df5-48fa-bd33-cda8f2e84205"
      },
      "source": [
        "x_norm=np.linalg.norm(x1,ord=2,axis=1,keepdims=True)\n",
        "x_norm.shape\n",
        "x_sd=x1/x_norm\n",
        "x_sd"
      ],
      "execution_count": null,
      "outputs": [
        {
          "output_type": "execute_result",
          "data": {
            "text/plain": [
              "array([[0.        , 0.6       , 0.8       ],\n",
              "       [0.26726124, 0.80178373, 0.53452248]])"
            ]
          },
          "metadata": {
            "tags": []
          },
          "execution_count": 32
        }
      ]
    },
    {
      "cell_type": "code",
      "metadata": {
        "id": "z71tH2EolQ0z",
        "colab_type": "code",
        "colab": {}
      },
      "source": [
        "w,b,X,Y=np.array([[1],[2]]),2,np.array([[1,2,-1],[3,4,-3.2]]),np.array([[1,0,1]])"
      ],
      "execution_count": null,
      "outputs": []
    },
    {
      "cell_type": "code",
      "metadata": {
        "id": "XkQuqfpMlQ-9",
        "colab_type": "code",
        "colab": {
          "base_uri": "https://localhost:8080/",
          "height": 34
        },
        "outputId": "4955dcdd-84ca-46cb-d6fd-af721fc32b72"
      },
      "source": [
        "X.shape"
      ],
      "execution_count": null,
      "outputs": [
        {
          "output_type": "execute_result",
          "data": {
            "text/plain": [
              "(2, 3)"
            ]
          },
          "metadata": {
            "tags": []
          },
          "execution_count": 42
        }
      ]
    },
    {
      "cell_type": "code",
      "metadata": {
        "id": "RNRMZm8-pvcl",
        "colab_type": "code",
        "colab": {
          "base_uri": "https://localhost:8080/",
          "height": 51
        },
        "outputId": "db274f07-387e-4926-8d9f-5292b6bef678"
      },
      "source": [
        "print(X)"
      ],
      "execution_count": null,
      "outputs": [
        {
          "output_type": "stream",
          "text": [
            "[[ 1.   2.  -1. ]\n",
            " [ 3.   4.  -3.2]]\n"
          ],
          "name": "stdout"
        }
      ]
    },
    {
      "cell_type": "code",
      "metadata": {
        "id": "0yhm9XEYpvls",
        "colab_type": "code",
        "colab": {}
      },
      "source": [
        ""
      ],
      "execution_count": null,
      "outputs": []
    },
    {
      "cell_type": "code",
      "metadata": {
        "id": "ko15p4k7XBxm",
        "colab_type": "code",
        "colab": {}
      },
      "source": [
        ""
      ],
      "execution_count": null,
      "outputs": []
    },
    {
      "cell_type": "code",
      "metadata": {
        "id": "FIlS65ThRmr-",
        "colab_type": "code",
        "colab": {}
      },
      "source": [
        ""
      ],
      "execution_count": null,
      "outputs": []
    }
  ]
}