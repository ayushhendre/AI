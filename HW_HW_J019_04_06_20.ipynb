{
  "nbformat": 4,
  "nbformat_minor": 0,
  "metadata": {
    "colab": {
      "name": "HW/HW.J019.04.06.20.ipynb",
      "provenance": [],
      "authorship_tag": "ABX9TyP8WQQaDnI7BCn0lW4dWDJM",
      "include_colab_link": true
    },
    "kernelspec": {
      "name": "python3",
      "display_name": "Python 3"
    }
  },
  "cells": [
    {
      "cell_type": "markdown",
      "metadata": {
        "id": "view-in-github",
        "colab_type": "text"
      },
      "source": [
        "<a href=\"https://colab.research.google.com/github/ayushhendre/AI/blob/master/HW_HW_J019_04_06_20.ipynb\" target=\"_parent\"><img src=\"https://colab.research.google.com/assets/colab-badge.svg\" alt=\"Open In Colab\"/></a>"
      ]
    },
    {
      "cell_type": "code",
      "metadata": {
        "id": "qgXXrjU6JZf-",
        "colab_type": "code",
        "colab": {
          "base_uri": "https://localhost:8080/",
          "height": 34
        },
        "outputId": "444e6cf9-0a41-4103-f5aa-aa526ea90822"
      },
      "source": [
        "#Q1 \n",
        "n = 3\n",
        "if n%2 != 0:\n",
        "    print('Weird')\n",
        "elif n%2==0 and n<6 and 1<n:\n",
        "    print('Not Weird')\n",
        "elif n%2==0 and n<21 and 5<n :\n",
        "    print('Weird')\n",
        "else:\n",
        "    print('Not Weird')"
      ],
      "execution_count": 1,
      "outputs": [
        {
          "output_type": "stream",
          "text": [
            "Weird\n"
          ],
          "name": "stdout"
        }
      ]
    },
    {
      "cell_type": "code",
      "metadata": {
        "id": "I1snS85jJbE8",
        "colab_type": "code",
        "colab": {
          "base_uri": "https://localhost:8080/",
          "height": 68
        },
        "outputId": "bcdcdc2f-4f26-4616-b1ed-ff92baaa1d8c"
      },
      "source": [
        "#Q2\n",
        "if __name__ == '__main__':\n",
        "    a = 6\n",
        "    b = 4\n",
        "    x=a+b\n",
        "    subtract = a-b\n",
        "    prod=a*b\n",
        "    print(x)\n",
        "    print(subtract)\n",
        "    print(prod)"
      ],
      "execution_count": 3,
      "outputs": [
        {
          "output_type": "stream",
          "text": [
            "10\n",
            "2\n",
            "24\n"
          ],
          "name": "stdout"
        }
      ]
    },
    {
      "cell_type": "code",
      "metadata": {
        "id": "ICiRoIFFJ3cq",
        "colab_type": "code",
        "colab": {
          "base_uri": "https://localhost:8080/",
          "height": 51
        },
        "outputId": "2978a483-5c9a-416a-a8c8-a243505124ab"
      },
      "source": [
        "#Q3\n",
        "a = 10\n",
        "b = 2\n",
        "\n",
        "print(a//b)\n",
        "print(a/b)"
      ],
      "execution_count": 4,
      "outputs": [
        {
          "output_type": "stream",
          "text": [
            "5\n",
            "5.0\n"
          ],
          "name": "stdout"
        }
      ]
    },
    {
      "cell_type": "code",
      "metadata": {
        "id": "pZFYJMtqJbTU",
        "colab_type": "code",
        "colab": {
          "base_uri": "https://localhost:8080/",
          "height": 85
        },
        "outputId": "d3aac13a-dc16-4e51-af87-eee0f8939748"
      },
      "source": [
        "#Q4\n",
        "if __name__ == '__main__':\n",
        "    n = 4\n",
        "    i=0\n",
        "    while(i<n):\n",
        "        print(i*i)\n",
        "        i+=1"
      ],
      "execution_count": 5,
      "outputs": [
        {
          "output_type": "stream",
          "text": [
            "0\n",
            "1\n",
            "4\n",
            "9\n"
          ],
          "name": "stdout"
        }
      ]
    },
    {
      "cell_type": "code",
      "metadata": {
        "id": "26dJrcv2JbdZ",
        "colab_type": "code",
        "colab": {
          "base_uri": "https://localhost:8080/",
          "height": 34
        },
        "outputId": "f0aceb8e-e826-41cc-ff3a-4664a7e425a5"
      },
      "source": [
        "#Q5\n",
        "if __name__ == '__main__':\n",
        "    n = 5\n",
        "    i=1\n",
        "\n",
        "\n",
        "    while(i<=n):\n",
        "        print(i,end=\"\")\n",
        "        i+=1"
      ],
      "execution_count": 6,
      "outputs": [
        {
          "output_type": "stream",
          "text": [
            "12345"
          ],
          "name": "stdout"
        }
      ]
    },
    {
      "cell_type": "code",
      "metadata": {
        "id": "WBHbTCKrJbnQ",
        "colab_type": "code",
        "colab": {
          "base_uri": "https://localhost:8080/",
          "height": 54
        },
        "outputId": "18a8d8a8-092a-4dd2-ade1-11f249179e1d"
      },
      "source": [
        "#Q6\n",
        "if __name__ == '__main__':\n",
        "    x = 1\n",
        "    y = 2\n",
        "    z = 3\n",
        "    n = 4\n",
        "    dims = [[i,j,k] for i in range(x+1) for j in range(y+1) for k in range(z+1) if((i+j+k)!=n)]\n",
        "\n",
        "    print(dims)"
      ],
      "execution_count": 7,
      "outputs": [
        {
          "output_type": "stream",
          "text": [
            "[[0, 0, 0], [0, 0, 1], [0, 0, 2], [0, 0, 3], [0, 1, 0], [0, 1, 1], [0, 1, 2], [0, 2, 0], [0, 2, 1], [0, 2, 3], [1, 0, 0], [1, 0, 1], [1, 0, 2], [1, 1, 0], [1, 1, 1], [1, 1, 3], [1, 2, 0], [1, 2, 2], [1, 2, 3]]\n"
          ],
          "name": "stdout"
        }
      ]
    }
  ]
}